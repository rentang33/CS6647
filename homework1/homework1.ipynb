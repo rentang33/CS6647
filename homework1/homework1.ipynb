{
  "nbformat": 4,
  "nbformat_minor": 0,
  "metadata": {
    "colab": {
      "provenance": []
    },
    "kernelspec": {
      "name": "python3",
      "display_name": "Python 3"
    },
    "language_info": {
      "name": "python"
    }
  },
  "cells": [
    {
      "cell_type": "markdown",
      "source": [
        "##**Use sympy to solve the following questions**\n",
        "**1. Solve the quadratic function $x^2+2x-8=0$**"
      ],
      "metadata": {
        "id": "MZjBN_HdrL3w"
      }
    },
    {
      "cell_type": "code",
      "source": [
        "from sympy import *\n",
        "\n"
      ],
      "metadata": {
        "id": "deEemH-qrnCG"
      },
      "execution_count": null,
      "outputs": []
    },
    {
      "cell_type": "markdown",
      "source": [
        "**2. What is the function f(x) which is equal to its\n",
        "derivative?**"
      ],
      "metadata": {
        "id": "osWHgKk5t9MA"
      }
    },
    {
      "cell_type": "code",
      "source": [],
      "metadata": {
        "id": "MR8ijByJroeV"
      },
      "execution_count": null,
      "outputs": []
    },
    {
      "cell_type": "markdown",
      "source": [
        "**3. Compute the area under $f(x)=x^3$ from x=0 to x=1**"
      ],
      "metadata": {
        "id": "P2b7XyAD5qf1"
      }
    },
    {
      "cell_type": "code",
      "source": [],
      "metadata": {
        "id": "W1MNf_ptrqOK"
      },
      "execution_count": null,
      "outputs": []
    },
    {
      "cell_type": "markdown",
      "source": [
        "**4. Calculate $\\displaystyle\\sum\\limits_{x=0}^\\infty \\left(\\frac{1}{x!}\\right)$**"
      ],
      "metadata": {
        "id": "X0WDytOW_0Ds"
      }
    },
    {
      "cell_type": "code",
      "source": [],
      "metadata": {
        "id": "9j3BL9Tbrrhw"
      },
      "execution_count": null,
      "outputs": []
    },
    {
      "cell_type": "markdown",
      "source": [
        "**5. Calculate $\\lim_{n \\rightarrow \\infty}(1+\\frac{1}{n})^n$**"
      ],
      "metadata": {
        "id": "GX1ZPTnTCtrV"
      }
    },
    {
      "cell_type": "code",
      "source": [],
      "metadata": {
        "id": "9RuIX--BrwG_"
      },
      "execution_count": null,
      "outputs": []
    },
    {
      "cell_type": "markdown",
      "source": [
        "**6. flips the matrix through its diagonal $\\begin{bmatrix}2&-3&-8&7 \\\\-2&-1&2&-7\\\\ 1&0&-3&6 \\end{bmatrix}$**"
      ],
      "metadata": {
        "id": "PJ_WIHAZE9P2"
      }
    },
    {
      "cell_type": "code",
      "source": [],
      "metadata": {
        "id": "DjIgeasrrw1d"
      },
      "execution_count": null,
      "outputs": []
    },
    {
      "cell_type": "markdown",
      "source": [
        "**7. Row operations: We know the following matrix**"
      ],
      "metadata": {
        "id": "rLTC_3INOPdj"
      }
    },
    {
      "cell_type": "code",
      "source": [
        " M = eye(3)\n",
        " M"
      ],
      "metadata": {
        "colab": {
          "base_uri": "https://localhost:8080/",
          "height": 78
        },
        "id": "iWzjfQn0Ox_a",
        "outputId": "bb2d9373-56e2-4c44-ecd0-04ab3b785b24"
      },
      "execution_count": null,
      "outputs": [
        {
          "output_type": "execute_result",
          "data": {
            "text/plain": [
              "Matrix([\n",
              "[1, 0, 0],\n",
              "[0, 1, 0],\n",
              "[0, 0, 1]])"
            ],
            "text/latex": "$\\displaystyle \\left[\\begin{matrix}1 & 0 & 0\\\\0 & 1 & 0\\\\0 & 0 & 1\\end{matrix}\\right]$"
          },
          "metadata": {},
          "execution_count": 2
        }
      ]
    },
    {
      "cell_type": "markdown",
      "source": [
        "**Do matrix row operations to R2 ← R2 + 3R1. (update Row 2 to R2+3*R1). Print the matrix**"
      ],
      "metadata": {
        "id": "v8pI_LiDjkBj"
      }
    },
    {
      "cell_type": "code",
      "source": [],
      "metadata": {
        "id": "WpVLzCfHrzd5"
      },
      "execution_count": null,
      "outputs": []
    },
    {
      "cell_type": "markdown",
      "source": [
        "**8.Find determinant of M**"
      ],
      "metadata": {
        "id": "lStKMbpWkZky"
      }
    },
    {
      "cell_type": "code",
      "source": [],
      "metadata": {
        "id": "klYDCja9r1N3"
      },
      "execution_count": null,
      "outputs": []
    },
    {
      "cell_type": "markdown",
      "source": [
        "**9.Find the following matrix's eigenvalue and eigen vector**"
      ],
      "metadata": {
        "id": "qaXra9fNlSDu"
      }
    },
    {
      "cell_type": "code",
      "source": [
        " import numpy.core as np\n",
        " from numpy.linalg import eig\n",
        "M = np.array( [[ 9, -2], [-2, 6]] )\n",
        "w,v = eig(M) \n",
        "print('E-value:', w)\n",
        "print('E-vector', v)"
      ],
      "metadata": {
        "id": "W8cpvW7lljCv",
        "colab": {
          "base_uri": "https://localhost:8080/"
        },
        "outputId": "289a9d00-0e8e-4afe-c386-7adf06be8d9b"
      },
      "execution_count": 12,
      "outputs": [
        {
          "output_type": "stream",
          "name": "stdout",
          "text": [
            "E-value: [10.  5.]\n",
            "E-vector [[ 0.89442719  0.4472136 ]\n",
            " [-0.4472136   0.89442719]]\n"
          ]
        }
      ]
    },
    {
      "cell_type": "markdown",
      "source": [
        "**10. Implement the Predator-prey model in python**\n",
        "\n",
        "Suppose fish starts at 10 hundreds, bears starts at 1 hundred\n",
        "\n",
        "alpha = 1.1\n",
        "\n",
        "beta = 0.4\n",
        "\n",
        "delta = 0.1\n",
        "\n",
        "gamma = 0.4\n",
        "\n",
        "draw the plots(bear-time, fish-time)\n",
        "\n",
        "t = np.linspace(0,50,num=1000)\n"
      ],
      "metadata": {
        "id": "T0NeZ4Hwo1Uy"
      }
    },
    {
      "cell_type": "code",
      "source": [
        "from scipy.integrate import odeint\n",
        "import matplotlib.pyplot as plt\n",
        "import numpy as npy\n",
        "import random\n",
        "\n",
        "# timestep determines the accuracy of the euler method of integration\n",
        "timestep = 0.0001\n",
        "# amplitude of noise term\n",
        "amp = 0.00\n",
        "# the time at which the simulation ends\n",
        "end_time = 50\n",
        "\n",
        "# creates a time vector from 0 to end_time, seperated by a timestep\n",
        "t = npy.arange(0,end_time,timestep)\n",
        "\n",
        "# intialize rabbits (x) and foxes (y) vectors\n",
        "x = []\n",
        "y = []\n",
        "\n",
        "# noise term to perturb differential equations\n",
        "def StochasticTerm(amp):\n",
        "    return (amp * random.uniform(-1,1))\n",
        "\n",
        "\"\"\"\" definition of lotka-volterra parameters\"\"\"\n",
        "# birth rate of rabbits\n",
        "a = 1\n",
        "# death rate of rabbits due to predation\n",
        "b = 0.1\n",
        "# natural death rate of foxes\n",
        "c = 0.5\n",
        "# factor that describes how many eaten rabbits give birth to a new fox\n",
        "d = 0.02\n",
        "\n",
        "\"\"\" euler integration \"\"\"\n",
        "\n",
        "# initial conditions for the rabbit (x) and fox (y) populations at time=0\n",
        "x.append(100)\n",
        "y.append(20)\n",
        "\n",
        "# forward euler method of integration\n",
        "# a perturbbation term is added to the differentials to make the simulation stochastic\n",
        "for index in range(1,len(t)):\n",
        "    \n",
        "    # make parameters stochastic\n",
        "#     a = a + StochasticTerm(amp)\n",
        "#     b = b + StochasticTerm(amp)\n",
        "#     c = c + StochasticTerm(amp)\n",
        "#     d = d + StochasticTerm(amp)\n",
        "    \n",
        "    # evaluate the current differentials\n",
        "    xd = x[index-1] * (a - b*y[index-1])\n",
        "    yd = -y[index-1]*(c - d*x[index-1])\n",
        "    \n",
        "    # evaluate the next value of x and y using differentials\n",
        "    next_x = x[index-1] + xd * timestep\n",
        "    next_y = y[index-1] + yd * timestep\n",
        "\n",
        "    # add the next value of x and y \n",
        "    x.append(next_x)\n",
        "    y.append(next_y)\n",
        "\n",
        "\"\"\" visualization \"\"\"\n",
        "\n",
        "if amp == 0:    \n",
        "    # visualization of deterministic populations against time\n",
        "    plt.plot(t, x)\n",
        "    plt.plot(t, y)\n",
        "    plt.xlabel('Time')\n",
        "    plt.ylabel('Population Size')\n",
        "    plt.legend(('Rabbits', 'Foxes'))\n",
        "    plt.title('Deterministic Lotka-Volterra')\n",
        "    plt.show()\n",
        "\n",
        "    # deterministic phase portrait\n",
        "    plt.plot(x,y)\n",
        "    plt.xlabel('Fox Population')\n",
        "    plt.ylabel('Rabbit Population')\n",
        "    plt.title('Phase Portrait of Deterministic Lotka-Volterra')\n",
        "    plt.show()\n",
        "    \n",
        "else:\n",
        "    # visualization of stochastic populations against time\n",
        "    plt.plot(t, x)\n",
        "    plt.plot(t, y)\n",
        "    plt.xlabel('Time')\n",
        "    plt.ylabel('Population Size')\n",
        "    plt.legend(('Rabbits', 'Foxes'))\n",
        "    plt.title('Stochastic Lotka-Volterra')\n",
        "    plt.show()\n",
        "\n",
        "    # stochastic phase portrait\n",
        "    plt.plot(x,y)\n",
        "    plt.xlabel('Fox Population')\n",
        "    plt.ylabel('Rabbit Population')\n",
        "    plt.title('Phase Portrait of Stochastic Lotka-Volterra')\n",
        "    plt.show()\n",
        "    \n",
        "    # noise term visualization\n",
        "    noise = []\n",
        "    n =[]\n",
        "    for sample in range(100):\n",
        "        noise.append(StochasticTerm(amp))\n",
        "        n.append(sample)\n",
        "\n",
        "    plt.plot(n, noise)\n",
        "    plt.xlabel('Arbitrary Noise Samples')\n",
        "    plt.ylabel('Noise')\n",
        "    plt.title('Perturbation to Birth Rate')\n",
        "    plt.show()"
      ],
      "metadata": {
        "id": "3nZ2nmHvo2x6"
      },
      "execution_count": 24,
      "outputs": []
    }
  ]
}