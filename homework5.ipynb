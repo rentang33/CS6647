{
  "nbformat": 4,
  "nbformat_minor": 0,
  "metadata": {
    "colab": {
      "provenance": [],
      "include_colab_link": true
    },
    "kernelspec": {
      "name": "python3",
      "display_name": "Python 3"
    },
    "language_info": {
      "name": "python"
    }
  },
  "cells": [
    {
      "cell_type": "markdown",
      "metadata": {
        "id": "view-in-github",
        "colab_type": "text"
      },
      "source": [
        "<a href=\"https://colab.research.google.com/github/rentang33/CS6647/blob/main/homework5.ipynb\" target=\"_parent\"><img src=\"https://colab.research.google.com/assets/colab-badge.svg\" alt=\"Open In Colab\"/></a>"
      ]
    },
    {
      "cell_type": "markdown",
      "source": [
        "#### Student Name: Ren Tang\n",
        "#### Class: CS 6647 Simulation and Modeling"
      ],
      "metadata": {
        "id": "RLv6KNrDLfFv"
      }
    },
    {
      "cell_type": "code",
      "source": [
        "#import libraries\n",
        "import numpy as np\n",
        "import random as rm\n",
        "# The possibility of activities\n",
        "#               Rest    Exercises    Sweeties\n",
        "#   Rest         0.2        0.6         0.2\n",
        "#   Exercises    0.1        0.6         0.3\n",
        "#   Sweeties     0.2        0.7         0.1\n",
        "\n",
        "# Possible sequences of events\n",
        "# RR = Rest->Rest  RE = Rest-> Exercises ......\n",
        "transitionName = [[\"RR\",\"RE\",\"RS\"],[\"ER\",\"EE\",\"ES\"],[\"SR\",\"SE\",\"SS\"]]\n",
        "\n",
        "# Probabilities matrix (transition matrix)\n",
        "transitionMatrix = [[0.2,0.6,0.2],[0.1,0.6,0.3],[0.2,0.7,0.1]]\n",
        "\n",
        "# A function that implements the Markov model to forecast the state/mood.\n",
        "def activity_forecast(days):\n",
        "    # Choose the starting state\n",
        "    activityToday = \"Rest\"\n",
        "    print(\"Start state: \" + activityToday)\n",
        "    print (\"After \" + str(days) + \" days:\")\n",
        "    # Store the sequence of states started\n",
        "    activityList = [activityToday]\n",
        "    i = 0\n",
        "    # To calculate the probability of the activityList\n",
        "    prob = 1\n",
        "    for i in range(0,days):\n",
        "        if activityToday == \"Rest\":\n",
        "            #Random select the activity from arry [\"RR\",\"RE\",\"RS\"] accroding the possibility [0.2,0.6,0.2]\n",
        "            change = np.random.choice(transitionName[0],replace=True,p=transitionMatrix[0])\n",
        "            if change == \"RR\":\n",
        "                # If the random select activity is RR, the probability is 0.2\n",
        "                prob = prob * 0.2\n",
        "                # Added the activity to array activitylist\n",
        "                activityList.append(\"Rest\")\n",
        "            elif change == \"RE\":\n",
        "                prob = prob * 0.6\n",
        "                activityToday = \"Exercises\"\n",
        "                activityList.append(\"Exercises\")\n",
        "            else:\n",
        "               # If the random select activity is RS, the probability is 0.2\n",
        "                prob = prob * 0.2\n",
        "                activityToday = \"Sweeties\"\n",
        "                activityList.append(\"Sweeties\")\n",
        "        elif activityToday == \"Exercises\":\n",
        "            change = np.random.choice(transitionName[1],replace=True,p=transitionMatrix[1])\n",
        "            if change == \"EE\":\n",
        "                prob = prob * 0.6\n",
        "                activityList.append(\"Exercises\")\n",
        "            elif change == \"ER\":\n",
        "                prob = prob * 0.1\n",
        "                activityToday = \"Rest\"\n",
        "                activityList.append(\"Rest\")\n",
        "            else:\n",
        "                prob = prob * 0.3\n",
        "                activityToday = \"Sweeties\"\n",
        "                activityList.append(\"Sweeties\")\n",
        "        elif activityToday == \"Sweeties\":\n",
        "            change = np.random.choice(transitionName[2],replace=True,p=transitionMatrix[2])\n",
        "            if change == \"SS\":\n",
        "                prob = prob * 0.1\n",
        "                activityList.append(\"Sweeties\")\n",
        "            elif change == \"SR\":\n",
        "                prob = prob * 0.2\n",
        "                activityToday = \"Rest\"\n",
        "                activityList.append(\"Rest\")\n",
        "            else:\n",
        "                prob = prob * 0.7\n",
        "                activityToday = \"Exercises\"\n",
        "                activityList.append(\"Exercises\")\n",
        "        i += 1\n",
        "    count = 0\n",
        "    for element in activityList:\n",
        "     if(element == \"Rest\"):\n",
        "        count += 1\n",
        "    percentage = (count/(days+1)) * 100\n",
        "    print(\"The probability of ending at state:'Reset'= \" + str(percentage) + \"%\")\n",
        "\n",
        "    count =0\n",
        "    for element in activityList:\n",
        "     if(element == \"Exercises\"):\n",
        "        count += 1\n",
        "    percentage = (count/(days+1)) * 100\n",
        "    print(\"The probability of ending at state:'Exercises'= \" + str(percentage) + \"%\")\n",
        "\n",
        "    count =0\n",
        "    for element in activityList:\n",
        "     if(element == \"Sweeties\"):\n",
        "        count += 1\n",
        "    percentage = (count/(days+1)) * 100\n",
        "    print(\"The probability of ending at state:'Sweeties'= \" + str(percentage) + \"%\")\n",
        "    #print(\"Possible states: \" + str(activityList))\n",
        "    print(\"End state after \"+ str(days) + \" days: \" + activityToday)\n",
        "\n",
        "# Function that forecasts the possible state for the next 15 days\n",
        "print (\"1. The starting state is Rest. Calculate the probability of possible activity on the 15th day.\")\n",
        "activity_forecast(15)\n",
        "print (\"\")\n",
        "\n",
        "print (\"2. What about the state and probability after 10000 days?\")\n",
        "# Function that forecasts the possible state for the next 10000 days\n",
        "activity_forecast(10000)\n",
        "\n",
        "print (\"\")\n",
        "print (\"3. What do you observe from the above two?\")\n",
        "print (\"When there are enough trials or experiments, the frequency of events with the same probability tends to be consistent. \\nAs the number of trials increase, the actual ratio tends to be closer to the theoretical or predicted ratio, according to the 'Law of large numbers'.\")\n",
        "\n",
        "#Reference\n",
        "#Jaiswal, S. (2019). Markov Chains in Python: Beginner Tutorial. https://www.datacamp.com/tutorial/markov-chains-python-tutorial\n"
      ],
      "metadata": {
        "colab": {
          "base_uri": "https://localhost:8080/"
        },
        "id": "mHi5x9ho2wpX",
        "outputId": "4a16e9b7-918e-4d04-ac8a-954b8f07de85"
      },
      "execution_count": 131,
      "outputs": [
        {
          "output_type": "stream",
          "name": "stdout",
          "text": [
            "1. The starting state is Rest. Calculate the probability of possible activity on the 15th day.\n",
            "Start state: Rest\n",
            "After 15 days:\n",
            "The probability of ending at state:'Reset'= 18.75%\n",
            "The probability of ending at state:'Exercises'= 75.0%\n",
            "The probability of ending at state:'Sweeties'= 6.25%\n",
            "End state after 15 days: Exercises\n",
            "\n",
            "2. What about the state and probability after 10000 days?\n",
            "Start state: Rest\n",
            "After 10000 days:\n",
            "The probability of ending at state:'Reset'= 13.168683131686832%\n",
            "The probability of ending at state:'Exercises'= 62.413758624137586%\n",
            "The probability of ending at state:'Sweeties'= 24.417558244175584%\n",
            "End state after 10000 days: Exercises\n",
            "\n",
            "3. What do you observe from the above two?\n",
            "When there are enough trials or experiments, the frequency of events with the same probability tends to be consistent. \n",
            "As the number of trials increase, the actual ratio tends to be closer to the theoretical or predicted ratio, according to the 'Law of large numbers'.\n"
          ]
        }
      ]
    }
  ]
}