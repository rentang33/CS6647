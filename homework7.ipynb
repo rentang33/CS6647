{
  "cells": [
    {
      "cell_type": "markdown",
      "metadata": {
        "id": "view-in-github",
        "colab_type": "text"
      },
      "source": [
        "<a href=\"https://colab.research.google.com/github/rentang33/CS6647/blob/main/homework7.ipynb\" target=\"_parent\"><img src=\"https://colab.research.google.com/assets/colab-badge.svg\" alt=\"Open In Colab\"/></a>"
      ]
    },
    {
      "cell_type": "markdown",
      "source": [
        "###Student Name: Ren Tang\n",
        "###Class: CS 6647 Simulation and Modeling"
      ],
      "metadata": {
        "id": "U01DKi_mwWvm"
      }
    },
    {
      "cell_type": "code",
      "source": [
        "#import library\n",
        "import numpy as np\n",
        "from scipy.optimize import minimize\n",
        "\n",
        "#Volume = L*W*H\n",
        "#Surface area=2*L*W+ 2*L*H + 2*W*H\n",
        "#define function to calculate volume of the box\n",
        "def boxVolume(x):\n",
        "  length = x[0]\n",
        "  width =x[1]\n",
        "  height=x[2]\n",
        "  volume = length * width * height\n",
        "  return volume\n",
        "\n",
        "#define function to calculate surface area of box\n",
        "def boxSurface(x):\n",
        "  length =x[0]\n",
        "  width = x[1]\n",
        "  height=x[2]\n",
        "  surfaceArea = 2*length*width + 2 * length*height + 2*height*width\n",
        "  return surfaceArea\n",
        "\n",
        "#Define objective function ofr optimizaiton, retun the minize negative volume to maximize the volume of the box\n",
        "def objective(x):\n",
        "  return  -boxVolume(x)\n",
        "\n",
        "#Define objective function for suface area less than 10\n",
        "def constraint(x):\n",
        "  return  10-boxSurface(x)\n",
        "\n",
        "#Least constratints into dictionary form\n",
        "cons = ({'type': 'ineq', 'fun':constraint})\n",
        "\n",
        "#set initial guess value for box dimension\n",
        "lengthGuess =1\n",
        "widthGuess =1\n",
        "heightGuess =1\n",
        "#laod guess voules into numpy array\n",
        "x0=np.array([lengthGuess, widthGuess,heightGuess])\n",
        "\n",
        "#Call solver to minize the objective function\n",
        "#Using Sequential Least Squares Programming (SLSQP)\n",
        "sol=minimize(objective, x0, method='SLSQP', constraints =cons)\n",
        "\n",
        "#Retrieve optimized box sizing and volume\n",
        "xOpt =sol.x\n",
        "volumeOpt = -sol.fun\n",
        "\n",
        "# Calcuate furface area with optimized values\n",
        "surfaceAreaOpt = boxSurface(xOpt)\n",
        "\n",
        "# print\n",
        "print('Length: ' + str(xOpt[0]))\n",
        "print('Width: ' + str(xOpt[1]))\n",
        "print('Height: ' + str(xOpt[2]))\n",
        "print('Volume: ' + str(volumeOpt))\n",
        "print('Surface Area: ' + str(surfaceAreaOpt))\n",
        "\n",
        "#Reference\n",
        "#AlphaOpt. (2018, March 6). Python Scipy Optimization Example: Constrained box volume [Video]. YouTube. https://www.youtube.com/watch?v=iSnTtV6b0Gw\n"
      ],
      "metadata": {
        "id": "EVGPKprTGU1V",
        "colab": {
          "base_uri": "https://localhost:8080/"
        },
        "outputId": "c69808cd-92c5-44c4-ffbd-532438e4cd62"
      },
      "execution_count": null,
      "outputs": [
        {
          "output_type": "stream",
          "name": "stdout",
          "text": [
            "Length: 1.2909944727867015\n",
            "Width: 1.290994455352175\n",
            "Height: 1.2909944180130968\n",
            "Volume: 2.151657414467269\n",
            "Surface Area: 9.999999999713689\n"
          ]
        }
      ]
    },
    {
      "cell_type": "markdown",
      "source": [
        "Reference:\n",
        "\n",
        "AlphaOpt. (2018, March 6). Python Scipy Optimization Example: Constrained box volume [Video]. YouTube. https://www.youtube.com/watch?v=iSnTtV6b0Gw\n",
        "\n",
        "Ciaburro, G. (2020). Hands-On Simulation Modeling with Python: Develop Simulation Models to Get Accurate Results and Enhance Decision-making Processes."
      ],
      "metadata": {
        "id": "FMwUaSSmKZvL"
      }
    }
  ],
  "metadata": {
    "kernelspec": {
      "display_name": "Python 3",
      "language": "python",
      "name": "python3"
    },
    "language_info": {
      "codemirror_mode": {
        "name": "ipython",
        "version": 3
      },
      "file_extension": ".py",
      "mimetype": "text/x-python",
      "name": "python",
      "nbconvert_exporter": "python",
      "pygments_lexer": "ipython3",
      "version": "3.7.6"
    },
    "colab": {
      "provenance": [],
      "include_colab_link": true
    }
  },
  "nbformat": 4,
  "nbformat_minor": 0
}