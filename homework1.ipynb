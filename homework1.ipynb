{
  "nbformat": 4,
  "nbformat_minor": 0,
  "metadata": {
    "colab": {
      "provenance": [],
      "include_colab_link": true
    },
    "kernelspec": {
      "name": "python3",
      "display_name": "Python 3"
    },
    "language_info": {
      "name": "python"
    }
  },
  "cells": [
    {
      "cell_type": "markdown",
      "metadata": {
        "id": "view-in-github",
        "colab_type": "text"
      },
      "source": [
        "<a href=\"https://colab.research.google.com/github/rentang33/CS6647/blob/main/homework1.ipynb\" target=\"_parent\"><img src=\"https://colab.research.google.com/assets/colab-badge.svg\" alt=\"Open In Colab\"/></a>"
      ]
    },
    {
      "cell_type": "code",
      "source": [
        "# Student Name: Ren Tang \n",
        "# Class: CS 6647 Simulation and Modeling"
      ],
      "metadata": {
        "id": "gV2auYrWAafF"
      },
      "execution_count": null,
      "outputs": []
    },
    {
      "cell_type": "markdown",
      "source": [
        "##**Use sympy to solve the following questions**\n",
        "**1. Solve the quadratic function $x^2+2x-8=0$**"
      ],
      "metadata": {
        "id": "MZjBN_HdrL3w"
      }
    },
    {
      "cell_type": "code",
      "source": [
        "from sympy import *\n",
        "x=Symbol(\"x\")\n",
        "x = solve(x**2 + 2*x - 8, x)\n",
        "print (x)"
      ],
      "metadata": {
        "colab": {
          "base_uri": "https://localhost:8080/"
        },
        "id": "WXJEwUk-4N26",
        "outputId": "f1b45ffd-d614-48a6-da4e-09127fad75f5"
      },
      "execution_count": 197,
      "outputs": [
        {
          "output_type": "stream",
          "name": "stdout",
          "text": [
            "[-4, 2]\n"
          ]
        }
      ]
    },
    {
      "cell_type": "markdown",
      "source": [
        "**2. What is the function f(x) which is equal to its\n",
        "derivative?**"
      ],
      "metadata": {
        "id": "osWHgKk5t9MA"
      }
    },
    {
      "cell_type": "code",
      "source": [
        "from sympy import *\n",
        "x=Symbol(\"x\")\n",
        "e=Symbol(\"e\")\n",
        "f=exp(x)\n",
        "df =diff(f,x)\n",
        "pprint(df)"
      ],
      "metadata": {
        "id": "MR8ijByJroeV",
        "colab": {
          "base_uri": "https://localhost:8080/"
        },
        "outputId": "c62563f4-3a1d-4e66-bace-f8e5186a9c73"
      },
      "execution_count": null,
      "outputs": [
        {
          "output_type": "stream",
          "name": "stdout",
          "text": [
            " x\n",
            "ℯ \n"
          ]
        }
      ]
    },
    {
      "cell_type": "markdown",
      "source": [
        "**3. Compute the area under $f(x)=x^3$ from x=0 to x=1**"
      ],
      "metadata": {
        "id": "P2b7XyAD5qf1"
      }
    },
    {
      "cell_type": "code",
      "source": [
        "from scipy.integrate import quad\n",
        "def integrand(x, a, b):\n",
        "    return a*x**3 + b\n",
        "a = 1 ; b = 0\n",
        "result = quad(integrand, 0, 1, args=(a,b))\n",
        "result"
      ],
      "metadata": {
        "colab": {
          "base_uri": "https://localhost:8080/"
        },
        "id": "cVpsPbYGl9AD",
        "outputId": "7d6e577f-5b13-40ff-ccf9-aee680a75282"
      },
      "execution_count": null,
      "outputs": [
        {
          "output_type": "execute_result",
          "data": {
            "text/plain": [
              "(0.25, 2.7755575615628914e-15)"
            ]
          },
          "metadata": {},
          "execution_count": 191
        }
      ]
    },
    {
      "cell_type": "markdown",
      "source": [
        "**4. Calculate $\\displaystyle\\sum\\limits_{x=0}^\\infty \\left(\\frac{1}{x!}\\right)$**"
      ],
      "metadata": {
        "id": "X0WDytOW_0Ds"
      }
    },
    {
      "cell_type": "code",
      "source": [
        "import matplotlib.pyplot as plt\n",
        "#import numpy as np \n",
        "import sympy as sy\n",
        "x = sy.Symbol('x')\n",
        "sy.summation(1/factorial(x),(x,0,oo))"
      ],
      "metadata": {
        "colab": {
          "base_uri": "https://localhost:8080/",
          "height": 39
        },
        "outputId": "4a2a04d0-75ef-4d88-96c6-5727f394dc5e",
        "id": "YKzIpUsc-f55"
      },
      "execution_count": null,
      "outputs": [
        {
          "output_type": "execute_result",
          "data": {
            "text/plain": [
              "E"
            ],
            "text/latex": "$\\displaystyle e$"
          },
          "metadata": {},
          "execution_count": 27
        }
      ]
    },
    {
      "cell_type": "markdown",
      "source": [
        "**5. Calculate $\\lim_{n \\rightarrow \\infty}(1+\\frac{1}{n})^n$**"
      ],
      "metadata": {
        "id": "GX1ZPTnTCtrV"
      }
    },
    {
      "cell_type": "code",
      "source": [
        "from sympy import *\n",
        "n = symbols('n')\n",
        "result = limit((1+1/n)**n, n, oo)\n",
        "print(result)"
      ],
      "metadata": {
        "id": "9RuIX--BrwG_",
        "colab": {
          "base_uri": "https://localhost:8080/"
        },
        "outputId": "cbf3863c-a2f8-43a0-a612-b10bacf054f1"
      },
      "execution_count": null,
      "outputs": [
        {
          "output_type": "stream",
          "name": "stdout",
          "text": [
            "E\n"
          ]
        }
      ]
    },
    {
      "cell_type": "markdown",
      "source": [
        "**6. flips the matrix through its diagonal $\\begin{bmatrix}2&-3&-8&7 \\\\-2&-1&2&-7\\\\ 1&0&-3&6 \\end{bmatrix}$**"
      ],
      "metadata": {
        "id": "PJ_WIHAZE9P2"
      }
    },
    {
      "cell_type": "code",
      "source": [
        "def imageSwap(mat, n):     \n",
        "    # start from at  first row of matrix\n",
        "    row = 0     \n",
        "    # traverse all top right diagonal\n",
        "    for j in range(n):\n",
        "         \n",
        "        # here we use stack for reversing\n",
        "        # the element of diagonal\n",
        "        s = []\n",
        "        i = row\n",
        "        k = j\n",
        "        while (i < n and k >= 0):                    \n",
        "            s.append(mat[i][k])            \n",
        "            i += 1 ;  k -= 1            \n",
        "        # push element to matrix in reverse order   \n",
        "        i = row ; k = j\n",
        "        while (i < n and k >= 0):\n",
        "               mat[i][k] = s[-1]\n",
        "               k -= 1 ;   i += 1\n",
        "               s.pop()             \n",
        "    column = n - 1\n",
        "    for j in range(1, n):\n",
        "        s = []\n",
        "        i = j\n",
        "        k = column\n",
        "        while (i < n and k >= 0):\n",
        "            s.append(mat[i][k])\n",
        "            i += 1\n",
        "            k -= 1         \n",
        "        # push element back to matrix in reverse order\n",
        "        i = j\n",
        "        k = column\n",
        "        while (i < n and k >= 0):\n",
        "            mat[i][k] = s[-1]\n",
        "            i += 1;  k -= 1\n",
        "            s.pop() \n",
        "def printMatrix(mat, n):\n",
        "    for i in range(n):\n",
        "        for j in range(n):\n",
        "            print(mat[i][j], end=\" \")              \n",
        "mat = [[2, -3, -8, 7],[-2, -1, 2, -7],\n",
        "        [1, 0, -3, 6]]\n",
        "n = 3\n",
        "imageSwap(mat, n)\n",
        "import numpy as np\n",
        "arr=np.matrix(mat)\n",
        "#printMatrix(mat, n)\n",
        "print (arr)\n",
        "# Reference -this code is contributed by shubhamsingh10   "
      ],
      "metadata": {
        "id": "DjIgeasrrw1d",
        "colab": {
          "base_uri": "https://localhost:8080/"
        },
        "outputId": "6b515968-71a3-479c-b743-efb6eddde521"
      },
      "execution_count": null,
      "outputs": [
        {
          "output_type": "stream",
          "name": "stdout",
          "text": [
            "[[ 2 -2  1  7]\n",
            " [-3 -1  0 -7]\n",
            " [-8  2 -3  6]]\n"
          ]
        }
      ]
    },
    {
      "cell_type": "markdown",
      "source": [
        "**7. Row operations: We know the following matrix**"
      ],
      "metadata": {
        "id": "rLTC_3INOPdj"
      }
    },
    {
      "cell_type": "code",
      "source": [
        "import numpy as np\n",
        "M = np.eye(3)\n",
        "print (M)"
      ],
      "metadata": {
        "id": "iWzjfQn0Ox_a",
        "colab": {
          "base_uri": "https://localhost:8080/"
        },
        "outputId": "5416786b-0209-42dc-8034-f95afbf527a5"
      },
      "execution_count": null,
      "outputs": [
        {
          "output_type": "stream",
          "name": "stdout",
          "text": [
            "[[1. 0. 0.]\n",
            " [0. 1. 0.]\n",
            " [0. 0. 1.]]\n"
          ]
        }
      ]
    },
    {
      "cell_type": "markdown",
      "source": [
        "**Do matrix row operations to R2 ← R2 + 3R1. (update Row 2 to R2+3*R1). Print the matrix**"
      ],
      "metadata": {
        "id": "v8pI_LiDjkBj"
      }
    },
    {
      "cell_type": "code",
      "source": [
        "import numpy as np\n",
        "M = np.eye(3)\n",
        "M[1] =M[:,0]*3+M[:, 1]\n",
        "print (M)"
      ],
      "metadata": {
        "id": "WpVLzCfHrzd5",
        "colab": {
          "base_uri": "https://localhost:8080/"
        },
        "outputId": "ebfdbf03-940d-4ce4-fb49-3df4b5be5ac5"
      },
      "execution_count": null,
      "outputs": [
        {
          "output_type": "stream",
          "name": "stdout",
          "text": [
            "[[1. 0. 0.]\n",
            " [3. 1. 0.]\n",
            " [0. 0. 1.]]\n"
          ]
        }
      ]
    },
    {
      "cell_type": "markdown",
      "source": [
        "**8.Find determinant of M**"
      ],
      "metadata": {
        "id": "lStKMbpWkZky"
      }
    },
    {
      "cell_type": "code",
      "source": [
        "# importing Numpy package\n",
        "import numpy as np \n",
        "M = np.eye(3)\n",
        "M[1] =M[:,0]*3+M[:, 1]\n",
        "np.linalg.det(M)"
      ],
      "metadata": {
        "id": "klYDCja9r1N3",
        "colab": {
          "base_uri": "https://localhost:8080/"
        },
        "outputId": "720638eb-c1b2-4378-b73a-639ce9971ad1"
      },
      "execution_count": null,
      "outputs": [
        {
          "output_type": "execute_result",
          "data": {
            "text/plain": [
              "1.0"
            ]
          },
          "metadata": {},
          "execution_count": 117
        }
      ]
    },
    {
      "cell_type": "markdown",
      "source": [
        "**9.Find the following matrix's eigenvalue and eigen vector**"
      ],
      "metadata": {
        "id": "qaXra9fNlSDu"
      }
    },
    {
      "cell_type": "code",
      "source": [
        "from numpy.linalg import eig\n",
        "M = np.array( [[ 9, -2], [-2, 6]] )\n",
        "w,v = eig(M) \n",
        "print('E-value:', w)\n",
        "print('E-vector', v)"
      ],
      "metadata": {
        "id": "W8cpvW7lljCv",
        "colab": {
          "base_uri": "https://localhost:8080/"
        },
        "outputId": "6c3ead43-fe91-4f2a-f9da-35a7026e882e"
      },
      "execution_count": null,
      "outputs": [
        {
          "output_type": "stream",
          "name": "stdout",
          "text": [
            "E-value: [10.  5.]\n",
            "E-vector [[ 0.89442719  0.4472136 ]\n",
            " [-0.4472136   0.89442719]]\n"
          ]
        }
      ]
    },
    {
      "cell_type": "markdown",
      "source": [
        "**10. Implement the Predator-prey model in python**\n",
        "\n",
        "Suppose fish starts at 10 hundreds, bears starts at 1 hundred\n",
        "\n",
        "alpha = 1.1\n",
        "\n",
        "beta = 0.4\n",
        "\n",
        "delta = 0.1\n",
        "\n",
        "gamma = 0.4\n",
        "\n",
        "draw the plots(bear-time, fish-time)\n",
        "\n",
        "t = np.linspace(0,50,num=1000)\n"
      ],
      "metadata": {
        "id": "T0NeZ4Hwo1Uy"
      }
    },
    {
      "cell_type": "markdown",
      "source": [],
      "metadata": {
        "id": "wGGHH_zmoPNp"
      }
    },
    {
      "cell_type": "code",
      "source": [
        "import matplotlib.pyplot as plt\n",
        "import numpy as np\n",
        "from scipy.integrate import solve_ivp\n",
        "    \n",
        "    # Lotka-Volterra equations\n",
        "def lv(t, z, a, b):\n",
        "        x, y = z\n",
        "        return [a*x*(y-1), -b*y*(x-1)]\n",
        "    \n",
        "begin, end = 0, 50\n",
        "t = np.linspace(0,50,num=1000)    \n",
        "styles = [\"-\", \":\", \"--\"]\n",
        "prey_init = [100,10000]\n",
        "a = 1.1\n",
        "b = 0.4   \n",
        "for style, p0 in zip(styles, prey_init):\n",
        "        sol = solve_ivp(lv, [begin, end], [p0, 1], t_eval=t, args=(a, b))\n",
        "        plt.plot(sol.y[0], sol.y[1], style) \n",
        "         \n",
        "plt.xlabel(\"prey\")\n",
        "plt.ylabel(\"preditor\")\n",
        "plt.legend([f\"$p_0$ = {p0}\" for p0 in prey_init])    \n",
        "# Reference-this code is contributed byJohn D. Cook\n",
        "# https://www.johndcook.com/blog/2021/07/14/predator-prey-period/"
      ],
      "metadata": {
        "colab": {
          "base_uri": "https://localhost:8080/",
          "height": 466
        },
        "id": "6BvHgPjzv2Uu",
        "outputId": "c5165aa4-5f94-45ab-fdec-4e22654b872c"
      },
      "execution_count": null,
      "outputs": [
        {
          "output_type": "execute_result",
          "data": {
            "text/plain": [
              "<matplotlib.legend.Legend at 0x7fa011ccb400>"
            ]
          },
          "metadata": {},
          "execution_count": 169
        },
        {
          "output_type": "display_data",
          "data": {
            "text/plain": [
              "<Figure size 640x480 with 1 Axes>"
            ],
            "image/png": "[encoded data removed]"
          },
          "metadata": {}
        }
      ]
    }
  ]
}