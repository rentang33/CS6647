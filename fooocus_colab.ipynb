{
  "cells": [
    {
      "cell_type": "code",
      "execution_count": null,
      "metadata": {
        "id": "VjYy0F2gZIPR"
      },
      "outputs": [],
      "source": [
        "!pip install pygit2==1.15.1\n",
        "%cd /content\n",
        "!git clone https://github.com/lllyasviel/Fooocus.git\n",
        "%cd /content/Fooocus\n",
        "\n"
      ]
    },
    {
      "cell_type": "code",
      "source": [
        "!python entry_with_update.py --share --always-high-vram --preset anime"
      ],
      "metadata": {
        "id": "7A8Ms0vommsD"
      },
      "execution_count": null,
      "outputs": []
    },
    {
      "cell_type": "code",
      "source": [],
      "metadata": {
        "id": "k2rSrnx-nkQ9"
      },
      "execution_count": null,
      "outputs": []
    },
    {
      "cell_type": "code",
      "source": [
        "\n",
        "!wget -O /content/Fooocus/models/checkpoints/juggernautXL_juggXIByRundiffusion.safetensors https://civitai.com/api/download/models/782002?type=Model&format=SafeTensor&size=full&fp=fp16\n"
      ],
      "metadata": {
        "id": "6mff_XsmnmR-"
      },
      "execution_count": null,
      "outputs": []
    },
    {
      "cell_type": "code",
      "source": [
        "!wget -O /content/Fooocus/models/checkpoints/juggernautXL_juggernautX.safetensors https://civitai.com/api/download/models/\n",
        "456194"
      ],
      "metadata": {
        "id": "QMhHKKE_rhpQ"
      },
      "execution_count": null,
      "outputs": []
    },
    {
      "cell_type": "code",
      "source": [
        "!wget -O /content/Fooocus/models/checkpoints/juggernautXL_juggXIByRundiffusion.safetensors https://civitai.com/api/download/models/782002?type=Model&format=SafeTensor&size=full&fp=fp16\n"
      ],
      "metadata": {
        "id": "7L8HCZNGvV66"
      },
      "execution_count": null,
      "outputs": []
    },
    {
      "cell_type": "code",
      "source": [
        "!wget -O /content/Fooocus/models/loras/ExperimentalV2.safetensors https://civitai.com/api/download/models/434113"
      ],
      "metadata": {
        "id": "uKAloVLe85wV"
      },
      "execution_count": null,
      "outputs": []
    },
    {
      "cell_type": "code",
      "source": [
        "!python entry_with_update.py --share --always-high-vram"
      ],
      "metadata": {
        "id": "KaR0dyBkmjSo"
      },
      "execution_count": null,
      "outputs": []
    }
  ],
  "metadata": {
    "accelerator": "GPU",
    "colab": {
      "gpuType": "T4",
      "provenance": []
    },
    "kernelspec": {
      "display_name": "Python 3",
      "name": "python3"
    },
    "language_info": {
      "name": "python"
    }
  },
  "nbformat": 4,
  "nbformat_minor": 0
}