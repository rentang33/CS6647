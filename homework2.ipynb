{
  "nbformat": 4,
  "nbformat_minor": 0,
  "metadata": {
    "colab": {
      "provenance": [],
      "include_colab_link": true
    },
    "kernelspec": {
      "name": "python3",
      "display_name": "Python 3.9.5 64-bit"
    },
    "language_info": {
      "name": "python",
      "version": "3.9.5",
      "mimetype": "text/x-python",
      "codemirror_mode": {
        "name": "ipython",
        "version": 3
      },
      "pygments_lexer": "ipython3",
      "nbconvert_exporter": "python",
      "file_extension": ".py"
    },
    "interpreter": {
      "hash": "c98e05168fa63a48dbdd2a4274fef77cd63f6368d59e4488c10e2ff7243bb6c6"
    }
  },
  "cells": [
    {
      "cell_type": "markdown",
      "metadata": {
        "id": "view-in-github",
        "colab_type": "text"
      },
      "source": [
        "<a href=\"https://colab.research.google.com/github/rentang33/CS6647/blob/main/homework2.ipynb\" target=\"_parent\"><img src=\"https://colab.research.google.com/assets/colab-badge.svg\" alt=\"Open In Colab\"/></a>"
      ]
    },
    {
      "cell_type": "markdown",
      "source": [
        "### Student Name: Ren Tang \n",
        "### Class: CS 6647 Simulation and Modeling"
      ],
      "metadata": {
        "id": "RLv6KNrDLfFv"
      }
    },
    {
      "cell_type": "markdown",
      "source": [
        "\n",
        "1. Use for loop to generate 3 random integers between 100 and 999 which is divisible by 5. \n",
        "\n"
      ],
      "metadata": {
        "id": "nF0Ps19ADEAg"
      }
    },
    {
      "cell_type": "code",
      "execution_count": null,
      "source": [
        "import random\n",
        "a = random.randrange(100, 999, 5)\n",
        "b = random.randrange(100, 999, 5)\n",
        "c = random.randrange(100, 999, 5)\n",
        "print(\"Generating 3 random integer number between 100 and 999 divisible by 5:\\n \", a, b, c)"
      ],
      "outputs": [
        {
          "output_type": "stream",
          "name": "stdout",
          "text": [
            "Generating 3 random integer number between 100 and 999 divisible by 5:\n",
            "  705 615 410\n"
          ]
        }
      ],
      "metadata": {
        "colab": {
          "base_uri": "https://localhost:8080/"
        },
        "id": "TioIKiMBDPGR",
        "outputId": "cf9dedc2-963b-4683-c143-5571a328ace5"
      }
    },
    {
      "cell_type": "markdown",
      "source": [
        "2.The Logistic distribution is used in Extreme Value problems where it can act as a mixture of Gumbel distributions. Draw samples from a logistic distribution and plot it. loc=10, scale=1 and size =1000. "
      ],
      "metadata": {
        "id": "hyXLw2juDQBR"
      }
    },
    {
      "cell_type": "code",
      "source": [
        "import numpy as np\n",
        "from matplotlib import pyplot as plt\n",
        "s=np.random.logistic(loc=10, scale=1, size=1000)\n",
        "plt.hist(s,bins =100)\n",
        "plt.show()"
      ],
      "metadata": {
        "colab": {
          "base_uri": "https://localhost:8080/",
          "height": 430
        },
        "id": "rYzgPsJesCEZ",
        "outputId": "ff585625-0104-4059-9522-8ae5c665dbaa"
      },
      "execution_count": 41,
      "outputs": [
        {
          "output_type": "display_data",
          "data": {
            "text/plain": [
              "<Figure size 640x480 with 1 Axes>"
            ],
            "image/png": "[encoded data removed]"
          },
          "metadata": {}
        }
      ]
    },
    {
      "cell_type": "markdown",
      "source": [
        "3.\tGenerate 6 digit random secure OTP."
      ],
      "metadata": {
        "id": "0jAtQnvcFn1g"
      }
    },
    {
      "cell_type": "code",
      "execution_count": null,
      "source": [
        "#import random module\n",
        "import random\n",
        "otp = random.randint(100000, 999999);\n",
        "print(\"Generating 6 digit random OTP \\n Secure random OTP is\", otp);"
      ],
      "outputs": [
        {
          "output_type": "stream",
          "name": "stdout",
          "text": [
            "Generating 6 digit random OTP \n",
            " Secure random OTP is 195470\n"
          ]
        }
      ],
      "metadata": {
        "colab": {
          "base_uri": "https://localhost:8080/"
        },
        "id": "8pnAxvQyGLN7",
        "outputId": "107a62a5-2fb9-4203-ffb3-ace5164d629e"
      }
    },
    {
      "cell_type": "markdown",
      "source": [],
      "metadata": {
        "id": "0ULrn6C2Ld8M"
      }
    },
    {
      "cell_type": "markdown",
      "source": [
        "4.\tPick a random character from a given string such as \"Simulation and modeling\""
      ],
      "metadata": {
        "id": "sRajmF4JGc9C"
      }
    },
    {
      "cell_type": "code",
      "source": [
        "#import random module\n",
        "import random\n",
        "givenString = \"Simulation and modeling\"\n",
        "randomChar = random.choice(givenString)\n",
        "print (\"random char is\", randomChar)"
      ],
      "metadata": {
        "colab": {
          "base_uri": "https://localhost:8080/"
        },
        "id": "CNJyrSj83wKF",
        "outputId": "154ef00f-da35-4534-a2e2-67c1da60f16f"
      },
      "execution_count": null,
      "outputs": [
        {
          "output_type": "stream",
          "name": "stdout",
          "text": [
            "random char is o\n"
          ]
        }
      ]
    },
    {
      "cell_type": "markdown",
      "source": [
        "5. Import string and random module. Generate a string with 5 characters with UPPER case and lower case letters only. No numbers and a special symbol."
      ],
      "metadata": {
        "id": "LWo72SxJGxOd"
      }
    },
    {
      "cell_type": "code",
      "execution_count": null,
      "source": [
        "#import string and random module\n",
        "import string\n",
        "import random\n",
        "#Uppercase letter and Lowercase letter\n",
        "randomString  = string.ascii_lowercase + string.ascii_uppercase\n",
        "#random generate 5 characters with upper and lower case\n",
        "randomString = random.choices(string.ascii_uppercase + string.ascii_lowercase, k=5)\n",
        "# Join the list\n",
        "randomString =''.join(randomString)\n",
        "print (\"Random String is \", randomString)"
      ],
      "outputs": [
        {
          "output_type": "stream",
          "name": "stdout",
          "text": [
            "Random String is  xMNdn\n"
          ]
        }
      ],
      "metadata": {
        "colab": {
          "base_uri": "https://localhost:8080/"
        },
        "id": "rf1xMCM8HPhw",
        "outputId": "b49296d1-2fbc-4067-d70a-83856a2d7ae7"
      }
    },
    {
      "cell_type": "markdown",
      "source": [
        "6. Import string and random module. Generate a Password with length 10 which contains 2 upper case letters, 1 digit, and 1 special symbol. "
      ],
      "metadata": {
        "id": "7yXtRN6WHYiu"
      }
    },
    {
      "cell_type": "code",
      "source": [
        "#import string and random module\n",
        "import string\n",
        "import random\n",
        "#from _ast import Break\n",
        "#Uppercase letter, Lowercase letter, digit and special symbol\n",
        "upperLetters = string.ascii_uppercase\n",
        "lowerLetters = string.ascii_lowercase\n",
        "digits = string.digits\n",
        "special_chars = string.punctuation\n",
        "randomString  = upperLetters + lowerLetters+digits + digits + special_chars\n",
        "# While loop to verify Password with length 10 which contains 2 upper case letters, 1 digit, and 1 special symbol\n",
        "while True:\n",
        "  #random generate 10 characters \n",
        "  passWord = random.choices(randomString, k=10) \n",
        "  passWord =''.join(passWord)\n",
        "  if(any(char in special_chars for char in passWord) and sum(char in upperLetters for char in passWord)>=2 and any(char in digits for char in passWord)):\n",
        "     break\n",
        "print (\"Password is  \", passWord)\n"
      ],
      "metadata": {
        "colab": {
          "base_uri": "https://localhost:8080/"
        },
        "id": "bEm1wc0C5xAc",
        "outputId": "c643ea04-fda9-435a-9b21-983ea45a9912"
      },
      "execution_count": null,
      "outputs": [
        {
          "output_type": "stream",
          "name": "stdout",
          "text": [
            "Password is   -<XHbE4SUG\n"
          ]
        }
      ]
    },
    {
      "cell_type": "markdown",
      "source": [
        "7. First generate evenly spaced values within 0 to 9. Give it new shape 3x3. Then randomly permute it."
      ],
      "metadata": {
        "id": "b5m0Kv-aIONE"
      }
    },
    {
      "cell_type": "code",
      "source": [
        "import numpy as np\n",
        "# generate evenly spaced values within 0 to 9. Give it new shape 3x3\n",
        "x= np.arange(0,9).reshape(3,3)\n",
        "# randomly permute it\n",
        "x= np.random.permutation(x)\n",
        "x"
      ],
      "metadata": {
        "colab": {
          "base_uri": "https://localhost:8080/"
        },
        "id": "O3e6cVWYvr1_",
        "outputId": "d95bea8d-53bb-48a1-dec9-5893f5aa1bcb"
      },
      "execution_count": 46,
      "outputs": [
        {
          "output_type": "execute_result",
          "data": {
            "text/plain": [
              "array([[3, 4, 5],\n",
              "       [0, 1, 2],\n",
              "       [6, 7, 8]])"
            ]
          },
          "metadata": {},
          "execution_count": 46
        }
      ]
    },
    {
      "cell_type": "markdown",
      "source": [
        "8. Generate random secure token of 64 bytes and random URL"
      ],
      "metadata": {
        "id": "A_qKoz0cJs56"
      }
    },
    {
      "cell_type": "code",
      "source": [
        "import secrets \n",
        "hexToken = secrets.token_hex(64) \n",
        "print (\"Random secure Hexadecimal token is \", hexToken)\n",
        "secureUrl= secrets.token_urlsafe(64)\n",
        "print (\"Random secure URL is \", secureUrl)"
      ],
      "metadata": {
        "colab": {
          "base_uri": "https://localhost:8080/"
        },
        "id": "UmquCe9hGQNK",
        "outputId": "5763f798-df42-4959-f8cb-d4b0c9fe661f"
      },
      "execution_count": null,
      "outputs": [
        {
          "output_type": "stream",
          "name": "stdout",
          "text": [
            "Random secure Hexadecimal token is  2e11fed87b347997b30d68d7bcc662749a9c5dc852a7e7eeb64d359364dc92ad31668cc8370a1271436de1012a2eedba408658d5e5e4e36d90dc86c396bf14cc\n",
            "Random secure URL is  QVWpE4bs1WYlkfdxm_v8OEerzH11auyFhulla0XBCu88pCe99zUvV3dzF9Kb_zLG3vehLthHc7E3UHXoVzasbg\n"
          ]
        }
      ]
    },
    {
      "cell_type": "markdown",
      "source": [
        "9. Pick a random number from 1 to 6. Do it in such a way that every time you must get the same random output number(no hard coding numbers). do this 5 times."
      ],
      "metadata": {
        "id": "BbqxqvkAKoco"
      }
    },
    {
      "cell_type": "code",
      "source": [
        "import random\n",
        "dice = [1,2,3,4,5,6]\n",
        "print(\"Randomly selecting same number of a dice \")\n",
        "for i in range(5):\n",
        "    random.seed(11)\n",
        "    print(random.choice(dice))"
      ],
      "metadata": {
        "colab": {
          "base_uri": "https://localhost:8080/"
        },
        "id": "aIoCohLCRkHT",
        "outputId": "c836655a-d44f-4f59-c3f5-86297e53f159"
      },
      "execution_count": null,
      "outputs": [
        {
          "output_type": "stream",
          "name": "stdout",
          "text": [
            "Randomly selecting same number of a dice \n",
            "4\n",
            "4\n",
            "4\n",
            "4\n",
            "4\n"
          ]
        }
      ]
    },
    {
      "cell_type": "markdown",
      "source": [
        "10. Write an interactive Python program to play a “guess the  number” game. The computer should think of a random integer between  1 and 20 and the user (player) has to try to guess the number within six  attempts. The program should let the player know if the guess is too high or  too low. \n"
      ],
      "metadata": {
        "id": "nKU3_whrK193"
      }
    },
    {
      "cell_type": "code",
      "source": [
        "# guess the umer game \n",
        "import random\n",
        "num = random.randint(1, 20)\n",
        "guess = None\n",
        "name = input(\"Hi! What is your name?\")\n",
        "print (\"Welcome \", name+\"! I am thinking of an integer between 1 and 20.\")\n",
        "#while guess != num:\n",
        "for i in range (1,7): \n",
        "      guess = input(\"Take a guess and type the integer?\")\n",
        "      guess = int(guess)\n",
        "      if guess == num:\n",
        "        print(\"Well done\",  name+\"！ You guessed my number in\", i , \"guesses!\")\n",
        "        break\n",
        "      elif guess > num:\n",
        "        print(\"Your guess is too high.\" )\n",
        "      else: \n",
        "        print(\"Your guess is too low.\")\n",
        "      if i==6:\n",
        "          print (\"Game over, your lose!\") "
      ],
      "metadata": {
        "colab": {
          "base_uri": "https://localhost:8080/"
        },
        "id": "KgDHj4IBr8Pk",
        "outputId": "6dd95a4b-25fd-4910-a12d-dda7cb781042"
      },
      "execution_count": 47,
      "outputs": [
        {
          "output_type": "stream",
          "name": "stdout",
          "text": [
            "Hi! What is your name?John\n",
            "Welcome  John! I am thinking of an integer between 1 and 20.\n",
            "Take a guess and type the integer?10\n",
            "Your guess is too high.\n",
            "Take a guess and type the integer?5\n",
            "Your guess is too low.\n",
            "Take a guess and type the integer?7\n",
            "Your guess is too high.\n",
            "Take a guess and type the integer?6\n",
            "Well done John！ You guessed my number in 4 guesses!\n"
          ]
        }
      ]
    }
  ]
}