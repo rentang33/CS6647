{
  "nbformat": 4,
  "nbformat_minor": 0,
  "metadata": {
    "colab": {
      "provenance": [],
      "authorship_tag": "ABX9TyPr2sauA7xVbtwA6+1ui4H9",
      "include_colab_link": true
    },
    "kernelspec": {
      "name": "python3",
      "display_name": "Python 3"
    },
    "language_info": {
      "name": "python"
    }
  },
  "cells": [
    {
      "cell_type": "markdown",
      "metadata": {
        "id": "view-in-github",
        "colab_type": "text"
      },
      "source": [
        "<a href=\"https://colab.research.google.com/github/rentang33/CS6647/blob/main/copy_of_cs6678_hw6.ipynb\" target=\"_parent\"><img src=\"https://colab.research.google.com/assets/colab-badge.svg\" alt=\"Open In Colab\"/></a>"
      ]
    },
    {
      "cell_type": "code",
      "execution_count": null,
      "metadata": {
        "colab": {
          "base_uri": "https://localhost:8080/"
        },
        "outputId": "1752047c-86ef-45e5-e8ba-496c55457adc",
        "id": "fesQJSS1Cfjf"
      },
      "outputs": [
        {
          "output_type": "stream",
          "name": "stderr",
          "text": [
            "[nltk_data] Downloading package words to /root/nltk_data...\n",
            "[nltk_data]   Package words is already up-to-date!\n"
          ]
        },
        {
          "output_type": "stream",
          "name": "stdout",
          "text": [
            "\n",
            "1. Count the number of remaining words in the file after removing all punctuation and non-English words:\n",
            "Total words:  15860\n",
            "\n",
            "2. Top 20 most frequent words:\n",
            "\n",
            "and: 490 occurrences\n",
            "the: 432 occurrences\n",
            "to: 408 occurrences\n",
            "my: 393 occurrences\n",
            "of: 370 occurrences\n",
            "i: 344 occurrences\n",
            "in: 323 occurrences\n",
            "that: 322 occurrences\n",
            "thy: 287 occurrences\n",
            "thou: 235 occurrences\n",
            "with: 181 occurrences\n",
            "not: 177 occurrences\n",
            "for: 171 occurrences\n",
            "is: 168 occurrences\n",
            "me: 164 occurrences\n",
            "but: 163 occurrences\n",
            "a: 163 occurrences\n",
            "thee: 162 occurrences\n",
            "love: 162 occurrences\n",
            "so: 145 occurrences\n"
          ]
        }
      ],
      "source": [
        "# HW-6 -2\n",
        "# 1.Remove all the punctuations and non-English words, then count the number of the rest of the words in the file\n",
        "# 2. Word counts. Extracting the most 20 frequent words from the file\n",
        "import string\n",
        "import nltk\n",
        "import re\n",
        "from nltk.tokenize import word_tokenize\n",
        "from collections import Counter\n",
        "from nltk.corpus import words\n",
        "\n",
        "\n",
        "with open(\"Shakespeare.txt\", 'r') as file:\n",
        "    text = file.read()\n",
        "\n",
        "# Remove punctuation\n",
        "text_without_punctuation = text.translate(str.maketrans('', '', string.punctuation))\n",
        "#print (text_without_punctuation)\n",
        "\n",
        "nltk.download('words')\n",
        "# Get the set of English words\n",
        "english_words = set(words.words())\n",
        "\n",
        "# Tokenize the text\n",
        "tokens = word_tokenize(text_without_punctuation)\n",
        "# Remove non-English words\n",
        "english_words = set(words.words())\n",
        "tokens = [word.lower() for word in tokens if word.lower() in english_words]\n",
        "\n",
        "\n",
        "total_words = len(tokens)\n",
        "total_words1 = len(text_without_punctuation)\n",
        "print (\"\\n1. Count the number of remaining words in the file after removing all punctuation and non-English words:\")\n",
        "\n",
        "print(\"Total words: \" , total_words)\n",
        "\n",
        "# Count the occurrences of each word\n",
        "word_counts = Counter(tokens)\n",
        "\n",
        "# Get the 20 most frequent words\n",
        "most_frequent_words = word_counts.most_common(20)\n",
        "\n",
        "# Display the most most 20 frequent words from the file\n",
        "print(\"\\n2. Top 20 most frequent words:\\n\")\n",
        "for word, count in most_frequent_words:\n",
        "    print(f\"{word}: {count} occurrences\")"
      ]
    }
  ]
}