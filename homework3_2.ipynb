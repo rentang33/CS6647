{
  "metadata": {
    "kernelspec": {
      "display_name": "Python 3",
      "language": "python",
      "name": "python3"
    },
    "language_info": {
      "name": "python",
      "version": "3.6.4",
      "mimetype": "text/x-python",
      "codemirror_mode": {
        "name": "ipython",
        "version": 3
      },
      "pygments_lexer": "ipython3",
      "nbconvert_exporter": "python",
      "file_extension": ".py"
    },
    "colab": {
      "provenance": [],
      "include_colab_link": true
    }
  },
  "nbformat_minor": 0,
  "nbformat": 4,
  "cells": [
    {
      "cell_type": "markdown",
      "metadata": {
        "id": "view-in-github",
        "colab_type": "text"
      },
      "source": [
        "<a href=\"https://colab.research.google.com/github/rentang33/CS6647/blob/main/homework3_2.ipynb\" target=\"_parent\"><img src=\"https://colab.research.google.com/assets/colab-badge.svg\" alt=\"Open In Colab\"/></a>"
      ]
    },
    {
      "cell_type": "markdown",
      "source": [
        "## The Uniform Distribution"
      ],
      "metadata": {
        "id": "s26AyhYpWDq5"
      }
    },
    {
      "cell_type": "markdown",
      "source": [
        "Load libraries. We use the scipy.stats library."
      ],
      "metadata": {
        "id": "zpBI2awMW6Oc"
      }
    },
    {
      "cell_type": "code",
      "source": [],
      "metadata": {
        "trusted": true,
        "id": "grtbaBqpWDq6"
      },
      "execution_count": null,
      "outputs": []
    },
    {
      "cell_type": "markdown",
      "source": [
        "Use scipy library to create a randam uniform distribution data (100000 numbers from 0 to 10)"
      ],
      "metadata": {
        "id": "oByCe-f4WabL"
      }
    },
    {
      "cell_type": "code",
      "source": [],
      "metadata": {
        "trusted": true,
        "id": "bZDkJE3EWDq8"
      },
      "execution_count": null,
      "outputs": []
    },
    {
      "cell_type": "markdown",
      "source": [
        "Plot the following density distribution.\n",
        "You can use figsize=(9,9), xlim=(-1,11)"
      ],
      "metadata": {
        "id": "VDFCdnvxXKBO"
      }
    },
    {
      "cell_type": "code",
      "source": [],
      "metadata": {
        "trusted": true,
        "colab": {
          "base_uri": "https://localhost:8080/",
          "height": 537
        },
        "id": "sv6O_1QTWDq8",
        "outputId": "5dca24b2-a70e-4f83-ff6e-aec088124646"
      },
      "execution_count": null,
      "outputs": [
        {
          "output_type": "display_data",
          "data": {
            "image/png": "[encoded data removed]",
            "text/plain": [
              "<Figure size 648x648 with 1 Axes>"
            ]
          },
          "metadata": {
            "needs_background": "light"
          }
        }
      ]
    },
    {
      "cell_type": "markdown",
      "source": [
        "\n",
        "\n",
        "Check scipy libraries and use useful functions."
      ],
      "metadata": {
        "id": "fTrcokY6WDq9"
      }
    },
    {
      "cell_type": "markdown",
      "source": [
        "cdf (cumulative distribution function) gives you the area under the distribution's density curve to the left of a certain value on the x axis. Calculate cdf with x axis from 0 to 2.5."
      ],
      "metadata": {
        "id": "zksEWTRzYZRW"
      }
    },
    {
      "cell_type": "code",
      "source": [],
      "metadata": {
        "trusted": true,
        "colab": {
          "base_uri": "https://localhost:8080/"
        },
        "id": "h9rCwTP9WDq-",
        "outputId": "a5938499-cf68-4ce0-8f62-a8d2d89a8a36"
      },
      "execution_count": null,
      "outputs": [
        {
          "output_type": "execute_result",
          "data": {
            "text/plain": [
              "0.25"
            ]
          },
          "metadata": {},
          "execution_count": 4
        }
      ]
    },
    {
      "cell_type": "markdown",
      "source": [
        "ppf() is the inverse of cdf(): it returns the x axis cutoff value (quantile) associated with a given probability. Caculate the cutoff value for propabality with 40%."
      ],
      "metadata": {
        "id": "YSH29ZK1WDq_"
      }
    },
    {
      "cell_type": "code",
      "source": [],
      "metadata": {
        "trusted": true,
        "colab": {
          "base_uri": "https://localhost:8080/"
        },
        "id": "0Qdov9KjWDq_",
        "outputId": "f84ec513-8308-410a-8c67-bbacdebefe10"
      },
      "execution_count": null,
      "outputs": [
        {
          "output_type": "execute_result",
          "data": {
            "text/plain": [
              "4.0"
            ]
          },
          "metadata": {},
          "execution_count": 5
        }
      ]
    },
    {
      "cell_type": "markdown",
      "source": [
        "Demonstrate for uniform distribution, x values within the range will have the same probability desity.  x values outside the range have a probability density of 0. The output is similar as the following."
      ],
      "metadata": {
        "id": "TCqkfCI5WDrA"
      }
    },
    {
      "cell_type": "code",
      "source": [],
      "metadata": {
        "trusted": true,
        "colab": {
          "base_uri": "https://localhost:8080/"
        },
        "id": "KosCGaV6WDrA",
        "outputId": "762da409-e318-498a-9eb1-ec058b3df0b8"
      },
      "execution_count": null,
      "outputs": [
        {
          "output_type": "stream",
          "name": "stdout",
          "text": [
            "Density at x value -1\n",
            "0.0\n",
            "Density at x value 2\n",
            "0.1\n",
            "Density at x value 5\n",
            "0.1\n",
            "Density at x value 8\n",
            "0.1\n",
            "Density at x value 11\n",
            "0.0\n"
          ]
        }
      ]
    },
    {
      "cell_type": "markdown",
      "source": [
        "Probability distribution functions in scipy also support median(), mean(), var() and std()."
      ],
      "metadata": {
        "id": "eDG_C5DLWDrA"
      }
    },
    {
      "cell_type": "markdown",
      "source": [
        "## The Normal Distribution"
      ],
      "metadata": {
        "id": "dzU_xIDZWDrD"
      }
    },
    {
      "cell_type": "markdown",
      "source": [
        "\n",
        "Use scipy's norm to have normal distribution (see the graph below) .  The normal distribution has default vaues of  mean of 0 and standard deviation of 1. Investigate what percentage of data generated by a default normal distribution is below -1. What percentage of data generated is above 1 and what percentage lies between -1 and 1. Print the three percentages. The output is similar as the following."
      ],
      "metadata": {
        "id": "4tlmrT-6WDrE"
      }
    },
    {
      "cell_type": "code",
      "source": [],
      "metadata": {
        "trusted": true,
        "colab": {
          "base_uri": "https://localhost:8080/"
        },
        "id": "4OrSDB0_WDrE",
        "outputId": "8f127208-946e-415b-a28c-6bd52d452113"
      },
      "execution_count": null,
      "outputs": [
        {
          "output_type": "stream",
          "name": "stdout",
          "text": [
            "0.15865525393145707 0.15865525393145707 0.6826894921370859\n"
          ]
        }
      ]
    },
    {
      "cell_type": "markdown",
      "source": [
        "Plotting is not required. The codes will be included in the solution. The image below shows the bell shape normal distribution."
      ],
      "metadata": {
        "id": "wpzcmComWDrE"
      }
    },
    {
      "cell_type": "code",
      "source": [
        "\n"
      ],
      "metadata": {
        "trusted": true,
        "colab": {
          "base_uri": "https://localhost:8080/",
          "height": 537
        },
        "id": "aAhigYlmWDrE",
        "outputId": "fde3c1f4-4d84-4182-bbaa-d4dc54c469ec"
      },
      "execution_count": null,
      "outputs": [
        {
          "output_type": "display_data",
          "data": {
            "image/png": "[encoded data removed]",
            "text/plain": [
              "<Figure size 648x648 with 1 Axes>"
            ]
          },
          "metadata": {
            "needs_background": "light"
          }
        }
      ]
    },
    {
      "cell_type": "markdown",
      "source": [
        "\n",
        "print the ppf for 2.5% cutoff and 97.5% cutoff. The output is similar as the following"
      ],
      "metadata": {
        "id": "y3_jL-q7WDrF"
      }
    },
    {
      "cell_type": "code",
      "source": [],
      "metadata": {
        "trusted": true,
        "colab": {
          "base_uri": "https://localhost:8080/"
        },
        "id": "6z018RRmWDrF",
        "outputId": "9aac4ea4-d5a3-4f2f-de34-396e9a7c645c"
      },
      "execution_count": null,
      "outputs": [
        {
          "output_type": "stream",
          "name": "stdout",
          "text": [
            "-1.9599639845400545\n",
            "1.959963984540054\n"
          ]
        }
      ]
    },
    {
      "cell_type": "markdown",
      "source": [
        "The quantile output above confirms that roughly 5% of the data lies more than 2 standard deviations from the mean.\n"
      ],
      "metadata": {
        "id": "nV_a8hFzWDrF"
      }
    },
    {
      "cell_type": "markdown",
      "source": [
        "## The Binomial Distribution"
      ],
      "metadata": {
        "id": "jMRGOfRlWDrF"
      }
    },
    {
      "cell_type": "markdown",
      "source": [
        "We will use binomial distribution to model coin flips. The scipy name for the binomial is binom. Here we set the number of flips per trial to 10,  the number of trials to 10000, and success probability to 0.5.\n",
        "\n",
        "Create a random binomial distribution data \"fair_coin_flips\" in the code line below."
      ],
      "metadata": {
        "id": "M_3gvuROWDrF"
      }
    },
    {
      "cell_type": "code",
      "source": [],
      "metadata": {
        "id": "mkJxZbGIxizh"
      },
      "execution_count": null,
      "outputs": []
    },
    {
      "cell_type": "code",
      "source": [
        "# Codes are provided here.\n",
        "# Print out the counts for 0 heads, 1 head, ...10 heads of each trial with 10000 trials.\n",
        "print( pd.crosstab(index=\"counts\", columns= fair_coin_flips))\n",
        "# Draw the histogram.\n",
        "pd.DataFrame(fair_coin_flips).hist(range=(-0.5,10.5), bins=11);"
      ],
      "metadata": {
        "trusted": true,
        "colab": {
          "base_uri": "https://localhost:8080/",
          "height": 605
        },
        "id": "n9AXH35TWDrF",
        "outputId": "8957f7e2-4c30-4a18-9d09-301da589e2a3"
      },
      "execution_count": null,
      "outputs": [
        {
          "output_type": "stream",
          "name": "stdout",
          "text": [
            "col_0   0   1    2     3     4     5     6     7    8    9   10\n",
            "row_0                                                          \n",
            "counts  12  85  501  1152  2141  2371  2005  1175  450  103   5\n"
          ]
        },
        {
          "output_type": "display_data",
          "data": {
            "image/png": "[encoded data removed]",
            "text/plain": [
              "<Figure size 648x648 with 1 Axes>"
            ]
          },
          "metadata": {
            "needs_background": "light"
          }
        }
      ]
    },
    {
      "cell_type": "markdown",
      "source": [
        "The histogram above shows us that a binomial distribution with a 50% probability of success is roughly symmetric, with the most likely outcomes lying at the center.\n",
        "Change the success rate to 0.8, implement the codes similar as above to show the distribution won't be symmetric:"
      ],
      "metadata": {
        "id": "6NOTE2BIWDrG"
      }
    },
    {
      "cell_type": "code",
      "source": [],
      "metadata": {
        "trusted": true,
        "colab": {
          "base_uri": "https://localhost:8080/",
          "height": 605
        },
        "id": "ayZSW5zmWDrG",
        "outputId": "9b6e5bc1-2137-478d-f670-c6021be75c1a"
      },
      "execution_count": null,
      "outputs": [
        {
          "output_type": "stream",
          "name": "stdout",
          "text": [
            "col_0   2   3   4    5    6     7     8     9     10\n",
            "row_0                                               \n",
            "counts   2   7  54  253  886  2046  3001  2700  1051\n"
          ]
        },
        {
          "output_type": "display_data",
          "data": {
            "image/png": "[encoded data removed]",
            "text/plain": [
              "<Figure size 648x648 with 1 Axes>"
            ]
          },
          "metadata": {
            "needs_background": "light"
          }
        }
      ]
    },
    {
      "cell_type": "markdown",
      "source": [
        "Continue from above binomial distribution(success rate=0.8), give the codes to get the probability of achieving 5 heads or less with 10 flips."
      ],
      "metadata": {
        "id": "ybMhEMhOWDrG"
      }
    },
    {
      "cell_type": "code",
      "source": [],
      "metadata": {
        "trusted": true,
        "colab": {
          "base_uri": "https://localhost:8080/"
        },
        "id": "Fhm0ScKWWDrG",
        "outputId": "c694302b-e37b-40bd-a66d-d93d22064eb3"
      },
      "execution_count": null,
      "outputs": [
        {
          "output_type": "execute_result",
          "data": {
            "text/plain": [
              "0.032793497599999964"
            ]
          },
          "metadata": {},
          "execution_count": 17
        }
      ]
    },
    {
      "cell_type": "markdown",
      "source": [
        "Continue from above binomial distribution(success rate=0.8), give the codes to get the probability of achieving 9 heads or more with 10 flips."
      ],
      "metadata": {
        "id": "EdSbcxw62Y9x"
      }
    },
    {
      "cell_type": "code",
      "source": [],
      "metadata": {
        "trusted": true,
        "colab": {
          "base_uri": "https://localhost:8080/"
        },
        "id": "HBxh9yKQWDrG",
        "outputId": "668ef6b9-b62c-4056-fa68-4b2b195fe6d1"
      },
      "execution_count": null,
      "outputs": [
        {
          "output_type": "execute_result",
          "data": {
            "text/plain": [
              "0.37580963840000003"
            ]
          },
          "metadata": {},
          "execution_count": 18
        }
      ]
    },
    {
      "cell_type": "markdown",
      "source": [
        "For continuous probability density functions, you use pdf() to check the probability density at a given x value. For discrete distributions like the binomial, use stats.distribution.pmf() (probability mass function) to check the mass (proportion of observations) at given number of successes k.\n",
        "Write codes to give the probability density at 5 heads with success rate of 0.5 of 10 flips."
      ],
      "metadata": {
        "id": "muBEhjHyWDrH"
      }
    },
    {
      "cell_type": "code",
      "source": [],
      "metadata": {
        "trusted": true,
        "colab": {
          "base_uri": "https://localhost:8080/"
        },
        "id": "pn7DjhdIWDrH",
        "outputId": "82bc499a-eb18-44c1-e088-5090de6d8304"
      },
      "execution_count": null,
      "outputs": [
        {
          "output_type": "execute_result",
          "data": {
            "text/plain": [
              "0.24609375000000025"
            ]
          },
          "metadata": {},
          "execution_count": 19
        }
      ]
    },
    {
      "cell_type": "markdown",
      "source": [
        "What about the probability density at 8 heads with success rate of 0.8 of 10 flips?"
      ],
      "metadata": {
        "id": "yygZPFEa8TEG"
      }
    },
    {
      "cell_type": "code",
      "source": [],
      "metadata": {
        "trusted": true,
        "colab": {
          "base_uri": "https://localhost:8080/"
        },
        "id": "XNCfMBj6WDrH",
        "outputId": "40b81817-a973-445e-868e-1b988907844c"
      },
      "execution_count": null,
      "outputs": [
        {
          "output_type": "execute_result",
          "data": {
            "text/plain": [
              "0.301989888"
            ]
          },
          "metadata": {},
          "execution_count": 20
        }
      ]
    },
    {
      "cell_type": "markdown",
      "source": [
        "## Wrap Up"
      ],
      "metadata": {
        "id": "LKqkiSsnWDrJ"
      }
    },
    {
      "cell_type": "markdown",
      "source": [
        "Extra information of Exponential Distributions and Poisson Distributions will be given in the solution.\n",
        "\n",
        "\n",
        "Python's scipy library contains functions that make it easy to work with a wide range of probability distributions, including [many that we did not discuss](https://docs.scipy.org/doc/scipy/reference/stats.html) in this lesson. Probability distribution functions are useful for generating random data, modeling random events and aiding with statistical tests and analysis.\n"
      ],
      "metadata": {
        "id": "HEVLHyABWDrK"
      }
    }
  ]
}